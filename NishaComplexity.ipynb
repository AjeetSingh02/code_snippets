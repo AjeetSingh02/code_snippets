{
  "nbformat": 4,
  "nbformat_minor": 0,
  "metadata": {
    "colab": {
      "name": "NishaComplexity.ipynb",
      "provenance": [],
      "collapsed_sections": [
        "kFmNB1GR2KJK"
      ],
      "authorship_tag": "ABX9TyNOE8b34PzJcWvcmHpt3WPJ",
      "include_colab_link": true
    },
    "kernelspec": {
      "name": "python3",
      "display_name": "Python 3"
    }
  },
  "cells": [
    {
      "cell_type": "markdown",
      "metadata": {
        "id": "view-in-github",
        "colab_type": "text"
      },
      "source": [
        "<a href=\"https://colab.research.google.com/github/AjeetSingh02/code_snippets/blob/master/NishaComplexity.ipynb\" target=\"_parent\"><img src=\"https://colab.research.google.com/assets/colab-badge.svg\" alt=\"Open In Colab\"/></a>"
      ]
    },
    {
      "cell_type": "markdown",
      "metadata": {
        "id": "kFmNB1GR2KJK",
        "colab_type": "text"
      },
      "source": [
        "# Installation and making dataset"
      ]
    },
    {
      "cell_type": "code",
      "metadata": {
        "id": "xCoiQ9dByW24",
        "colab_type": "code",
        "colab": {}
      },
      "source": [
        "! pip install pycountry"
      ],
      "execution_count": 0,
      "outputs": []
    },
    {
      "cell_type": "code",
      "metadata": {
        "id": "Nz442l7U3Lxd",
        "colab_type": "code",
        "colab": {}
      },
      "source": [
        "import re\n",
        "import time\n",
        "import pycountry\n",
        "import numpy as np\n",
        "import pandas as pd"
      ],
      "execution_count": 0,
      "outputs": []
    },
    {
      "cell_type": "code",
      "metadata": {
        "id": "gagvV-VZzHEY",
        "colab_type": "code",
        "colab": {}
      },
      "source": [
        "# To make a dataset of countries\n",
        "\n",
        "countryMasterList, countryAlpha2Names, countryAlpha3Names = [], [], []\n",
        "\n",
        "for country_details in list(pycountry.countries):\n",
        "    countryMasterList.append(country_details.name)\n",
        "    countryAlpha2Names.append(country_details.alpha_2)\n",
        "    countryAlpha3Names.append(country_details.alpha_3)"
      ],
      "execution_count": 0,
      "outputs": []
    },
    {
      "cell_type": "code",
      "metadata": {
        "colab_type": "code",
        "outputId": "a6606cce-70a6-4397-f337-82f50c5999da",
        "id": "SnToTBTo0g4C",
        "colab": {
          "base_uri": "https://localhost:8080/",
          "height": 72
        }
      },
      "source": [
        "# Contents of the lists\n",
        "i = 23\n",
        "print(f\"country name full: {countryMasterList[i]}\")\n",
        "print(f\"Country name in two alphabets: {countryAlpha2Names[i]}\")\n",
        "print(f\"Country name in three alphabets: {countryAlpha3Names[i]}\")"
      ],
      "execution_count": 37,
      "outputs": [
        {
          "output_type": "stream",
          "text": [
            "country name full: Bulgaria\n",
            "Country name in two alphabets: BG\n",
            "Country name in three alphabets: BGR\n"
          ],
          "name": "stdout"
        }
      ]
    },
    {
      "cell_type": "code",
      "metadata": {
        "id": "YUqzt7qp2W-G",
        "colab_type": "code",
        "colab": {
          "base_uri": "https://localhost:8080/",
          "height": 198
        },
        "outputId": "cbfff602-cf08-433a-9c70-efa8dcceaa4b"
      },
      "source": [
        "# We will create a Dataset which is having a column \"possibleCountry\". \n",
        "# We want to determine how many values in this column has countries as values\n",
        "\n",
        "# Since this is just a dummy dataset we will be using these three list to create the column\n",
        "# We will use the countryMasterList as a look up so that some values match\n",
        "# The matches must be equal to the length of the countryMasterList\n",
        "df = pd.DataFrame({\"possibleCountry\": countryAlpha2Names + countryMasterList + countryAlpha3Names})\n",
        "\n",
        "# Since the dataset looks too small. We will increase the size of the dataset to\n",
        "# better look at the time difference between methods\n",
        "df = df.append([df] * 10000,ignore_index=True)\n",
        "\n",
        "# Here we look at the dataset\n",
        "df.head()"
      ],
      "execution_count": 110,
      "outputs": [
        {
          "output_type": "execute_result",
          "data": {
            "text/html": [
              "<div>\n",
              "<style scoped>\n",
              "    .dataframe tbody tr th:only-of-type {\n",
              "        vertical-align: middle;\n",
              "    }\n",
              "\n",
              "    .dataframe tbody tr th {\n",
              "        vertical-align: top;\n",
              "    }\n",
              "\n",
              "    .dataframe thead th {\n",
              "        text-align: right;\n",
              "    }\n",
              "</style>\n",
              "<table border=\"1\" class=\"dataframe\">\n",
              "  <thead>\n",
              "    <tr style=\"text-align: right;\">\n",
              "      <th></th>\n",
              "      <th>possibleCountry</th>\n",
              "    </tr>\n",
              "  </thead>\n",
              "  <tbody>\n",
              "    <tr>\n",
              "      <th>0</th>\n",
              "      <td>AW</td>\n",
              "    </tr>\n",
              "    <tr>\n",
              "      <th>1</th>\n",
              "      <td>AF</td>\n",
              "    </tr>\n",
              "    <tr>\n",
              "      <th>2</th>\n",
              "      <td>AO</td>\n",
              "    </tr>\n",
              "    <tr>\n",
              "      <th>3</th>\n",
              "      <td>AI</td>\n",
              "    </tr>\n",
              "    <tr>\n",
              "      <th>4</th>\n",
              "      <td>AX</td>\n",
              "    </tr>\n",
              "  </tbody>\n",
              "</table>\n",
              "</div>"
            ],
            "text/plain": [
              "  possibleCountry\n",
              "0              AW\n",
              "1              AF\n",
              "2              AO\n",
              "3              AI\n",
              "4              AX"
            ]
          },
          "metadata": {
            "tags": []
          },
          "execution_count": 110
        }
      ]
    },
    {
      "cell_type": "code",
      "metadata": {
        "id": "oGIM_hYc6Uor",
        "colab_type": "code",
        "colab": {
          "base_uri": "https://localhost:8080/",
          "height": 35
        },
        "outputId": "f518033c-b7f0-4662-f670-1c8c1f16a425"
      },
      "source": [
        "print(f\"Number of rows in the dataset: {df.shape[0]}\")"
      ],
      "execution_count": 111,
      "outputs": [
        {
          "output_type": "stream",
          "text": [
            "Number of rows in the dataset: 7470747\n"
          ],
          "name": "stdout"
        }
      ]
    },
    {
      "cell_type": "markdown",
      "metadata": {
        "id": "GCfDarzw1L2i",
        "colab_type": "text"
      },
      "source": [
        "# Using look up method to find countries\n"
      ]
    },
    {
      "cell_type": "code",
      "metadata": {
        "id": "JdBK3bG02PsG",
        "colab_type": "code",
        "colab": {
          "base_uri": "https://localhost:8080/",
          "height": 54
        },
        "outputId": "7a394540-62e0-4a74-df69-6cb5dfa3fc10"
      },
      "source": [
        "# We will loop through each value in the \"possibleCountry\" column\n",
        "# of the dataset and see if that value is in the lookup.\n",
        "# IF that value is in lookup then its a country and if not then its \n",
        "# not a country\n",
        "\n",
        "start = time.time()\n",
        "count = 0\n",
        "\n",
        "for value in df.possibleCountry:\n",
        "    if value in countryMasterList:\n",
        "        count +=  1\n",
        "\n",
        "end = time.time()\n",
        "\n",
        "print(f\"Total Number of countries found in the possibleCountry column: {count}\")\n",
        "print(f\"Total time taken: {end - start} seconds\")"
      ],
      "execution_count": 112,
      "outputs": [
        {
          "output_type": "stream",
          "text": [
            "Total Number of countries found in the possibleCountry column: 2490249\n",
            "Total time taken: 19.042866468429565 seconds\n"
          ],
          "name": "stdout"
        }
      ]
    },
    {
      "cell_type": "markdown",
      "metadata": {
        "id": "KBpYUOUo5MCK",
        "colab_type": "text"
      },
      "source": [
        " # Using Regex pattern matching method"
      ]
    },
    {
      "cell_type": "code",
      "metadata": {
        "id": "dCiKgFqC7CHs",
        "colab_type": "code",
        "colab": {
          "base_uri": "https://localhost:8080/",
          "height": 35
        },
        "outputId": "78207cbc-a3a7-443e-dc48-ff0d9da35bf9"
      },
      "source": [
        "# We will do the same as above. Just the approach will be different.\n",
        "# Here we will make a pattern and will match it with each value in that \n",
        "# possibleCountry column\n",
        "\n",
        "# First we will define our pattern for regex mathing\n",
        "# It will be the join of all country names with pipe symbol (|)\n",
        "pattern = \"|\".join(countryMasterList)\n",
        "\n",
        "print(f\"Our pattern will be something like this: {pattern[:48]}...\")"
      ],
      "execution_count": 113,
      "outputs": [
        {
          "output_type": "stream",
          "text": [
            "Our pattern will be something like this: Aruba|Afghanistan|Angola|Anguilla|Åland Islands|...\n"
          ],
          "name": "stdout"
        }
      ]
    },
    {
      "cell_type": "code",
      "metadata": {
        "id": "j4dAS1Ol-Hg2",
        "colab_type": "code",
        "colab": {
          "base_uri": "https://localhost:8080/",
          "height": 54
        },
        "outputId": "665caf15-1c06-4007-d12f-8e5a79d70f2f"
      },
      "source": [
        "# Now lets do the matching and calculate count of countries in tha dataset\n",
        "# with this method\n",
        "\n",
        "start = time.time()\n",
        "count = 0\n",
        "\n",
        "for value in df.possibleCountry:\n",
        "    if re.findall(pattern, value):\n",
        "        count += 1\n",
        "\n",
        "end = time.time()\n",
        "\n",
        "print(f\"Total Number of countries found in the possibleCountry column: {count}\")\n",
        "print(f\"Total time taken: {end - start} seconds\")"
      ],
      "execution_count": 116,
      "outputs": [
        {
          "output_type": "stream",
          "text": [
            "Total Number of countries found in the possibleCountry column: 2440244\n",
            "Total time taken: 8.778597354888916 seconds\n"
          ],
          "name": "stdout"
        }
      ]
    },
    {
      "cell_type": "markdown",
      "metadata": {
        "id": "Sr3_2S1J8lX8",
        "colab_type": "text"
      },
      "source": [
        "# Conclusion"
      ]
    },
    {
      "cell_type": "markdown",
      "metadata": {
        "id": "JywNQe1v7dqV",
        "colab_type": "text"
      },
      "source": [
        "As you can see there is clear difference between the speed of both the methods. **Second one is approximately twice as fast as first one.**\n",
        "\n",
        "Which is expected given that the first one runs two loops whereas second one has only one loop and a regex match. And as we know, regex matches are already optimized"
      ]
    }
  ]
}